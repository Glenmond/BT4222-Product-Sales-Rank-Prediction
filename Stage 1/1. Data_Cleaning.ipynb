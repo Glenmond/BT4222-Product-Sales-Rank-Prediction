{
 "cells": [
  {
   "cell_type": "code",
   "execution_count": 1,
   "metadata": {},
   "outputs": [],
   "source": [
    "# Dataframe\n",
    "import pandas as pd\n",
    "\n",
    "# Array\n",
    "import numpy as np\n",
    "\n",
    "# Datetime\n",
    "from datetime import datetime\n",
    "\n",
    "import ast"
   ]
  },
  {
   "cell_type": "code",
   "execution_count": 2,
   "metadata": {},
   "outputs": [
    {
     "name": "stderr",
     "output_type": "stream",
     "text": [
      "/Users/tanyh/opt/anaconda3/lib/python3.8/site-packages/IPython/core/interactiveshell.py:3071: DtypeWarning: Columns (1) have mixed types.Specify dtype option on import or set low_memory=False.\n",
      "  has_raised = await self.run_ast_nodes(code_ast.body, cell_name,\n",
      "/Users/tanyh/opt/anaconda3/lib/python3.8/site-packages/IPython/core/interactiveshell.py:3071: DtypeWarning: Columns (3) have mixed types.Specify dtype option on import or set low_memory=False.\n",
      "  has_raised = await self.run_ast_nodes(code_ast.body, cell_name,\n"
     ]
    }
   ],
   "source": [
    "df_reviews = pd.read_csv('reviews5.csv')\n",
    "df_meta = pd.read_csv('meta.csv')"
   ]
  },
  {
   "cell_type": "code",
   "execution_count": 3,
   "metadata": {},
   "outputs": [],
   "source": [
    "def clean_price(df_1):\n",
    "    df = df_1.copy()\n",
    "    df = df[~df['price'].str.contains('px', na=False)]\n",
    "    df = df[~df['price'].str.contains('n', na=False)]\n",
    "    df = df[~df['price'].str.contains('-', na=False)]\n",
    "    df = df[~df['price'].str.contains('\\n\\n\\n<script', na=False)]\n",
    "\n",
    "    #Delete dollar sign and comma from price column and convert to float\n",
    "    df['price'] = df['price'].str.replace('$', '')\n",
    "    df['price'] = df['price'].str.replace(',', '')\n",
    "\n",
    "    df['price'] = df['price'].astype(float)\n",
    "    return df\n",
    "\n",
    "df = df_meta.copy()\n",
    "df = clean_price(df)"
   ]
  },
  {
   "cell_type": "code",
   "execution_count": 4,
   "metadata": {},
   "outputs": [],
   "source": [
    "def extract_rank(rank_list):\n",
    "    try:\n",
    "        l = ast.literal_eval(rank_list)\n",
    "    except:\n",
    "        return None\n",
    "    for r in l:\n",
    "        if r[-28:] == \"(See Top 100 in Electronics)\" or r[-25:] == \"Electronics (See top 100)\":\n",
    "            return float(r.split()[0][2:].replace(',', ''))\n",
    "\n",
    "df['rankElectronics'] = df['rank'].apply(extract_rank)\n",
    "df = df.dropna(subset=['rankElectronics', 'price', 'brand', 'main_cat', 'title']).reset_index()"
   ]
  },
  {
   "cell_type": "code",
   "execution_count": 5,
   "metadata": {},
   "outputs": [],
   "source": [
    "# Filter Irrelevant Categories from Electronics\n",
    "\n",
    "main_cat_list = list(df['main_cat'].unique())\n",
    "\n",
    "exclude_list = ['Books', \n",
    "                '<img src=\"https://images-na.ssl-images-amazon.com/images/G/01/nav2/images/gui/amazon-fashion-store-new._CB520838675_.png\" class=\"nav-categ-image\" alt=\"AMAZON FASHION\" />',\n",
    "                'Grocery',\n",
    "                'Pet Supplies',\n",
    "                '<img src=\"https://m.media-amazon.com/images/G/01/nav2/images/gui/amazon-fashion-store-new._CB520838675_.png\" class=\"nav-categ-image\" alt=\"AMAZON FASHION\"/>',\n",
    "                'Gift Cards',\n",
    "                '<img src=\"https://images-na.ssl-images-amazon.com/images/G/01/img16/amazon-launchpad/content-grid/launchpad_lp_nav-logo_v2._CB268684856_.png\" class=\"nav-categ-image\" alt=\"AMAZON LAUNCHPAD\"/>',\n",
    "                '<img src=\"https://images-na.ssl-images-amazon.com/images/G/01/nav2/images/gui/amazon-fashion-store-new._CB520838675_.png\" class=\"nav-categ-image\" alt=\"AMAZON FASHION\"/>',\n",
    "               ]\n",
    "\n",
    "final_list = [x for x in main_cat_list if x not in exclude_list]\n",
    "df = df.loc[df['main_cat'].isin(final_list)]"
   ]
  },
  {
   "cell_type": "code",
   "execution_count": 6,
   "metadata": {},
   "outputs": [],
   "source": [
    "# To formulate the datetime\n",
    "\n",
    "import re\n",
    "\n",
    "def concat_ele(word_list):\n",
    "    new_list = []\n",
    "    for w in word_list:\n",
    "        w = re.sub(\"[^0-9]\", \"\", w)\n",
    "        new_list.append(w)\n",
    "    return new_list\n",
    "\n",
    "def built_string(word_list):\n",
    "    e1 = word_list[0]\n",
    "    e2 = word_list[1]\n",
    "    e3 = word_list[2]\n",
    "    new_list = [e3, e1, e2]\n",
    "    return ''.join(new_list)"
   ]
  },
  {
   "cell_type": "code",
   "execution_count": 7,
   "metadata": {},
   "outputs": [],
   "source": [
    "df_rev = df_reviews.copy()\n",
    "\n",
    "# split string into array\n",
    "df_rev['reviewTime'] = df_rev['reviewTime'].apply(lambda x: x.split())\n",
    "\n",
    "# remove non digits characters, such as ,\n",
    "df_rev['reviewTime'] = df_rev['reviewTime'].apply(lambda x: concat_ele(x))\n",
    "\n",
    "# reorder the string of dates\n",
    "df_rev['reviewTime'] = df_rev['reviewTime'].apply(lambda x: built_string(x))\n",
    "\n",
    "# make into datetime format\n",
    "df_rev['reviewTime'] = pd.to_datetime(df_rev['reviewTime'], format='%Y%m%d')\n",
    "\n",
    "# keep only reviews from 2010\n",
    "df_rev = df_rev[df_rev['reviewTime'] > '2010-01-01']"
   ]
  },
  {
   "cell_type": "code",
   "execution_count": 8,
   "metadata": {},
   "outputs": [],
   "source": [
    "# output cleaned dfs to csv for further analysis\n",
    "\n",
    "df_rev.to_csv(\"df_reviews.csv\")\n",
    "df.to_csv(\"df_meta.csv\")"
   ]
  }
 ],
 "metadata": {
  "kernelspec": {
   "display_name": "Python 3",
   "language": "python",
   "name": "python3"
  },
  "language_info": {
   "codemirror_mode": {
    "name": "ipython",
    "version": 3
   },
   "file_extension": ".py",
   "mimetype": "text/x-python",
   "name": "python",
   "nbconvert_exporter": "python",
   "pygments_lexer": "ipython3",
   "version": "3.8.3"
  }
 },
 "nbformat": 4,
 "nbformat_minor": 4
}
