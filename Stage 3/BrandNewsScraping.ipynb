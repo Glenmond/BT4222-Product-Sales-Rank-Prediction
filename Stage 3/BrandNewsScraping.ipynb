{
 "cells": [
  {
   "cell_type": "code",
   "execution_count": 1,
   "metadata": {},
   "outputs": [],
   "source": [
    "#pip install yanytapi"
   ]
  },
  {
   "cell_type": "code",
   "execution_count": 2,
   "metadata": {},
   "outputs": [],
   "source": [
    "from yanytapi import SearchAPI\n",
    "import pandas as pd"
   ]
  },
  {
   "cell_type": "code",
   "execution_count": 3,
   "metadata": {},
   "outputs": [],
   "source": [
    "# Test out to see workings of API\n",
    "api = SearchAPI(\"0G2tWlsIwUmXphgZAiniq0fPah06ZFwU\")"
   ]
  },
  {
   "cell_type": "code",
   "execution_count": 4,
   "metadata": {},
   "outputs": [],
   "source": [
    "\n",
    "articles = api.search(\"Pwr+\", fq={\"headline\": \"Pwr+\",\"source\": [\"Reuters\",\"AP\",\"The New York Times\"]},\n",
    "                      begin_date=\"20100101\",\n",
    "                      end_date = \"20190101\",\n",
    "                      facet_field=[\"source\", \"day_of_week\"],\n",
    "                      facet_filter=True)"
   ]
  },
  {
   "cell_type": "code",
   "execution_count": 5,
   "metadata": {},
   "outputs": [
    {
     "data": {
      "text/plain": [
       "<yanytapi.search.Results at 0x7fdfa73ba670>"
      ]
     },
     "execution_count": 5,
     "metadata": {},
     "output_type": "execute_result"
    }
   ],
   "source": [
    "articles"
   ]
  },
  {
   "cell_type": "code",
   "execution_count": 6,
   "metadata": {},
   "outputs": [
    {
     "name": "stdout",
     "output_type": "stream",
     "text": [
      "<class 'yanytapi.search.Doc'>\n",
      "2016-12-29T21:34:51+0000 PWR BTTM: Traditionalists, of Glam and Drag Pop; Traditionalists, of Glam and Drag The melodic and theatrical punk duo of Liv Bruce and Ben Hopkins will be playing Joe’s Pub. 3 132\n",
      "----------\n"
     ]
    }
   ],
   "source": [
    "for item in articles:\n",
    "    print(type(item))\n",
    "    print(item.pub_date, item.headline[\"main\"], item.headline[\"print_headline\"], item.abstract, item.meta.hits, item.word_count)\n",
    "    \n",
    "    print(\"----------\")\n",
    "    #print(len(item.abstract))\n",
    "    break"
   ]
  },
  {
   "cell_type": "code",
   "execution_count": 7,
   "metadata": {},
   "outputs": [],
   "source": [
    "colnames = [\"company\", \"Date\", \"main_headline\", \"print_headline\", \"absract\", \"num_hits\", \"word_count\"]\n",
    "test_df = pd.DataFrame(columns = colnames)"
   ]
  },
  {
   "cell_type": "code",
   "execution_count": 8,
   "metadata": {},
   "outputs": [],
   "source": [
    "for item in articles:\n",
    "    this_row = [\"Pwr+\", item.pub_date, item.headline[\"main\"], item.headline[\"print_headline\"], item.abstract, item.meta.hits, item.word_count]\n",
    "    test_df = test_df.append(pd.Series(this_row, index = colnames), ignore_index=True)"
   ]
  },
  {
   "cell_type": "code",
   "execution_count": 9,
   "metadata": {},
   "outputs": [
    {
     "data": {
      "text/html": [
       "<div>\n",
       "<style scoped>\n",
       "    .dataframe tbody tr th:only-of-type {\n",
       "        vertical-align: middle;\n",
       "    }\n",
       "\n",
       "    .dataframe tbody tr th {\n",
       "        vertical-align: top;\n",
       "    }\n",
       "\n",
       "    .dataframe thead th {\n",
       "        text-align: right;\n",
       "    }\n",
       "</style>\n",
       "<table border=\"1\" class=\"dataframe\">\n",
       "  <thead>\n",
       "    <tr style=\"text-align: right;\">\n",
       "      <th></th>\n",
       "      <th>company</th>\n",
       "      <th>Date</th>\n",
       "      <th>main_headline</th>\n",
       "      <th>print_headline</th>\n",
       "      <th>absract</th>\n",
       "      <th>num_hits</th>\n",
       "      <th>word_count</th>\n",
       "    </tr>\n",
       "  </thead>\n",
       "  <tbody>\n",
       "    <tr>\n",
       "      <th>0</th>\n",
       "      <td>Pwr+</td>\n",
       "      <td>2017-05-12T21:27:57+0000</td>\n",
       "      <td>PWR BTTM: A Punk Band in the Glare</td>\n",
       "      <td>Punk’s Gender-Neutral Power Brokers</td>\n",
       "      <td>The band puts a defiant and glammy spin on pun...</td>\n",
       "      <td>3</td>\n",
       "      <td>1786</td>\n",
       "    </tr>\n",
       "    <tr>\n",
       "      <th>1</th>\n",
       "      <td>Pwr+</td>\n",
       "      <td>2017-01-10T00:40:07+0000</td>\n",
       "      <td>Review: PWR BTTM Is Part Theater, Part Punk, E...</td>\n",
       "      <td>Part Theater, Part Punk, Entirely Captivating</td>\n",
       "      <td>Ben Hopkins and Liv Bruce wax tart, vulnerable...</td>\n",
       "      <td>3</td>\n",
       "      <td>716</td>\n",
       "    </tr>\n",
       "  </tbody>\n",
       "</table>\n",
       "</div>"
      ],
      "text/plain": [
       "  company                      Date  \\\n",
       "0    Pwr+  2017-05-12T21:27:57+0000   \n",
       "1    Pwr+  2017-01-10T00:40:07+0000   \n",
       "\n",
       "                                       main_headline  \\\n",
       "0                 PWR BTTM: A Punk Band in the Glare   \n",
       "1  Review: PWR BTTM Is Part Theater, Part Punk, E...   \n",
       "\n",
       "                                  print_headline  \\\n",
       "0            Punk’s Gender-Neutral Power Brokers   \n",
       "1  Part Theater, Part Punk, Entirely Captivating   \n",
       "\n",
       "                                             absract num_hits word_count  \n",
       "0  The band puts a defiant and glammy spin on pun...        3       1786  \n",
       "1  Ben Hopkins and Liv Bruce wax tart, vulnerable...        3        716  "
      ]
     },
     "execution_count": 9,
     "metadata": {},
     "output_type": "execute_result"
    }
   ],
   "source": [
    "test_df"
   ]
  },
  {
   "cell_type": "code",
   "execution_count": 10,
   "metadata": {},
   "outputs": [],
   "source": [
    "test_df.to_csv(\"pwr+.csv\")"
   ]
  },
  {
   "cell_type": "code",
   "execution_count": null,
   "metadata": {},
   "outputs": [],
   "source": []
  }
 ],
 "metadata": {
  "kernelspec": {
   "display_name": "Python 3",
   "language": "python",
   "name": "python3"
  },
  "language_info": {
   "codemirror_mode": {
    "name": "ipython",
    "version": 3
   },
   "file_extension": ".py",
   "mimetype": "text/x-python",
   "name": "python",
   "nbconvert_exporter": "python",
   "pygments_lexer": "ipython3",
   "version": "3.8.3"
  }
 },
 "nbformat": 4,
 "nbformat_minor": 4
}
